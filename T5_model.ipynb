{
  "nbformat": 4,
  "nbformat_minor": 0,
  "metadata": {
    "colab": {
      "name": "T5_model.ipynb",
      "provenance": [],
      "authorship_tag": "ABX9TyNlVLsbezRs7Hf+JB3EMXl5",
      "include_colab_link": true
    },
    "kernelspec": {
      "name": "python3",
      "display_name": "Python 3"
    },
    "accelerator": "GPU"
  },
  "cells": [
    {
      "cell_type": "markdown",
      "metadata": {
        "id": "view-in-github",
        "colab_type": "text"
      },
      "source": [
        "<a href=\"https://colab.research.google.com/github/NirmalMathi/DAT8/blob/master/T5_model.ipynb\" target=\"_parent\"><img src=\"https://colab.research.google.com/assets/colab-badge.svg\" alt=\"Open In Colab\"/></a>"
      ]
    },
    {
      "cell_type": "code",
      "metadata": {
        "id": "jO8SCemxT1--",
        "colab_type": "code",
        "colab": {}
      },
      "source": [
        "!pip install transformers==2.8.0\n",
        "!pip install torch==1.4.0"
      ],
      "execution_count": 0,
      "outputs": []
    },
    {
      "cell_type": "code",
      "metadata": {
        "id": "OOY3q8TwOuWf",
        "colab_type": "code",
        "colab": {}
      },
      "source": [
        "import torch\n",
        "import json \n",
        "from transformers import T5Tokenizer, T5ForConditionalGeneration, T5Config\n",
        "\n",
        "model = T5ForConditionalGeneration.from_pretrained('t5-small')\n",
        "tokenizer = T5Tokenizer.from_pretrained('t5-small')\n",
        "device = torch.device('cpu')\n",
        "\n",
        "\n",
        "\n",
        "\n"
      ],
      "execution_count": 0,
      "outputs": []
    },
    {
      "cell_type": "code",
      "metadata": {
        "id": "qFm_4pHVT7BQ",
        "colab_type": "code",
        "colab": {}
      },
      "source": [
        "text =\"\"\"\n",
        "The US has \"passed the peak\" on new coronavirus cases, President Donald Trump said and predicted that some states would reopen this month.\n",
        "The US has over 637,000 confirmed Covid-19 cases and over 30,826 deaths, the highest for any country in the world.\n",
        "At the daily White House coronavirus briefing on Wednesday, Trump said new guidelines to reopen the country would be announced on Thursday after he speaks to governors.\n",
        "\"We'll be the comeback kids, all of us,\" he said. \"We want to get our country back.\"\n",
        "The Trump administration has previously fixed May 1 as a possible date to reopen the world's largest economy, but the president said some states may be able to return to normalcy earlier than that.\n",
        "\"\"\""
      ],
      "execution_count": 0,
      "outputs": []
    },
    {
      "cell_type": "code",
      "metadata": {
        "id": "tAbuydbmTk8b",
        "colab_type": "code",
        "colab": {
          "base_uri": "https://localhost:8080/",
          "height": 71
        },
        "outputId": "b85d308f-f9fb-443f-887f-1b49c75862c8"
      },
      "source": [
        "preprocess_text = text.strip().replace(\"\\n\",\"\")\n",
        "t5_prepared_Text = \"summarize: \"+preprocess_text\n",
        "print (\"original text preprocessed: \\n\", preprocess_text)"
      ],
      "execution_count": 30,
      "outputs": [
        {
          "output_type": "stream",
          "text": [
            "original text preprocessed: \n",
            " The US has \"passed the peak\" on new coronavirus cases, President Donald Trump said and predicted that some states would reopen this month.The US has over 637,000 confirmed Covid-19 cases and over 30,826 deaths, the highest for any country in the world.At the daily White House coronavirus briefing on Wednesday, Trump said new guidelines to reopen the country would be announced on Thursday after he speaks to governors.\"We'll be the comeback kids, all of us,\" he said. \"We want to get our country back.\"The Trump administration has previously fixed May 1 as a possible date to reopen the world's largest economy, but the president said some states may be able to return to normalcy earlier than that.\n"
          ],
          "name": "stdout"
        }
      ]
    },
    {
      "cell_type": "code",
      "metadata": {
        "id": "oORjU1yaToWA",
        "colab_type": "code",
        "colab": {
          "base_uri": "https://localhost:8080/",
          "height": 323
        },
        "outputId": "38295b13-4431-493b-aef8-55ca284c0449"
      },
      "source": [
        "tokenized_text = tokenizer.encode(t5_prepared_Text, return_tensors=\"pt\").to(device)\n",
        "tokenized_text"
      ],
      "execution_count": 31,
      "outputs": [
        {
          "output_type": "execute_result",
          "data": {
            "text/plain": [
              "tensor([[21603,    10,    37,   837,    65,    96,  3968,    15,    26,     8,\n",
              "          6734,   121,    30,   126,  4301,   106,     9, 18095,  1488,     6,\n",
              "          1661,  7459,  2523,   243,    11, 15439,    24,   128,  2315,   133,\n",
              "             3,    60,  8751,    48,   847,     5,   634,   837,    65,   147,\n",
              "             3,  3891, 18834,  5899,   638,  6961,  4481,  1488,    11,   147,\n",
              "         11558,   927,  2688, 14319,     6,     8,  2030,    21,   136,   684,\n",
              "            16,     8,   296,     5,   188,    17,     8,  1444,  1945,  1384,\n",
              "          4301,   106,     9, 18095,  4456,    53,    30,  2875,     6,  2523,\n",
              "           243,   126,  5749,    12,     3,    60,  8751,     8,   684,   133,\n",
              "            36,  2162,    30,  2721,   227,     3,    88, 12192,    12, 13062,\n",
              "             7,   535,  1326,    31,   195,    36,     8,   369,  1549,  1082,\n",
              "             6,    66,    13,   178,   976,     3,    88,   243,     5,    96,\n",
              "          1326,   241,    12,   129,    69,   684,   223,   535,   634,  2523,\n",
              "          3602,    65,  3150,  3599,   932,   209,    38,     3,     9,   487,\n",
              "           833,    12,     3,    60,  8751,     8,   296,    31,     7,  2015,\n",
              "          2717,     6,    68,     8,  2753,   243,   128,  2315,   164,    36,\n",
              "             3,   179,    12,  1205,    12,  1389,    75,    63,  2283,   145,\n",
              "            24,     5]])"
            ]
          },
          "metadata": {
            "tags": []
          },
          "execution_count": 31
        }
      ]
    },
    {
      "cell_type": "code",
      "metadata": {
        "id": "PqznA_k2U4PI",
        "colab_type": "code",
        "colab": {
          "base_uri": "https://localhost:8080/",
          "height": 54
        },
        "outputId": "ef740391-e7b3-4011-fe6e-b0531ef4a114"
      },
      "source": [
        "print([tokenizer.decode(g, skip_special_tokens=True, clean_up_tokenization_spaces=False) for g in tokenized_text])"
      ],
      "execution_count": 32,
      "outputs": [
        {
          "output_type": "stream",
          "text": [
            "['summarize: The US has \"passed the peak\" on new coronavirus cases, President Donald Trump said and predicted that some states would reopen this month.The US has over 637,000 confirmed Covid-19 cases and over 30,826 deaths, the highest for any country in the world.At the daily White House coronavirus briefing on Wednesday, Trump said new guidelines to reopen the country would be announced on Thursday after he speaks to governors.\"We\\'ll be the comeback kids, all of us,\" he said. \"We want to get our country back.\"The Trump administration has previously fixed May 1 as a possible date to reopen the world\\'s largest economy, but the president said some states may be able to return to normalcy earlier than that.']\n"
          ],
          "name": "stdout"
        }
      ]
    },
    {
      "cell_type": "code",
      "metadata": {
        "id": "KOENR34nTrlR",
        "colab_type": "code",
        "colab": {
          "base_uri": "https://localhost:8080/",
          "height": 51
        },
        "outputId": "48af2d95-502e-48e5-ec26-7edc78dcf9ba"
      },
      "source": [
        "# summmarize \n",
        "summary_ids = model.generate(tokenized_text,\n",
        "                                    num_beams=4,\n",
        "                                    no_repeat_ngram_size=0,\n",
        "                                    min_length=30,\n",
        "                                    max_length=100,\n",
        "                                    early_stopping=True)\n",
        "summary_ids"
      ],
      "execution_count": 37,
      "outputs": [
        {
          "output_type": "execute_result",
          "data": {
            "text/plain": [
              "tensor([[    0,     8,   178,    65,   147,     3,  3891, 18834,  5899,   638,\n",
              "          6961,  4481,  1488,    11,   147, 11558,   927,  2688, 14319,     3]])"
            ]
          },
          "metadata": {
            "tags": []
          },
          "execution_count": 37
        }
      ]
    },
    {
      "cell_type": "code",
      "metadata": {
        "id": "lfXGZ3oJTsP9",
        "colab_type": "code",
        "colab": {
          "base_uri": "https://localhost:8080/",
          "height": 85
        },
        "outputId": "d9bd4087-399e-45fd-cc30-61abab1ee0b1"
      },
      "source": [
        "output = tokenizer.decode(summary_ids[0], skip_special_tokens=True)\n",
        "\n",
        "print (\"\\n\\nSummarized text: \\n\",output)"
      ],
      "execution_count": 38,
      "outputs": [
        {
          "output_type": "stream",
          "text": [
            "\n",
            "\n",
            "Summarized text: \n",
            " the us has over 637,000 confirmed Covid-19 cases and over 30,826 deaths \n"
          ],
          "name": "stdout"
        }
      ]
    },
    {
      "cell_type": "code",
      "metadata": {
        "id": "P9wGmqTMPu16",
        "colab_type": "code",
        "colab": {}
      },
      "source": [
        ""
      ],
      "execution_count": 0,
      "outputs": []
    }
  ]
}