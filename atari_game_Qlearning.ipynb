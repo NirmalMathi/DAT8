{
  "nbformat": 4,
  "nbformat_minor": 0,
  "metadata": {
    "colab": {
      "name": "Untitled0.ipynb",
      "provenance": [],
      "collapsed_sections": [],
      "toc_visible": true,
      "authorship_tag": "ABX9TyMIWwbPbBOvobNiCOV5tX7Z",
      "include_colab_link": true
    },
    "kernelspec": {
      "name": "python3",
      "display_name": "Python 3"
    },
    "accelerator": "TPU"
  },
  "cells": [
    {
      "cell_type": "markdown",
      "metadata": {
        "id": "view-in-github",
        "colab_type": "text"
      },
      "source": [
        "<a href=\"https://colab.research.google.com/github/NirmalMathi/DAT8/blob/master/atari_game_Qlearning.ipynb\" target=\"_parent\"><img src=\"https://colab.research.google.com/assets/colab-badge.svg\" alt=\"Open In Colab\"/></a>"
      ]
    },
    {
      "cell_type": "code",
      "metadata": {
        "id": "I_9U0gmwNp3F",
        "colab_type": "code",
        "colab": {
          "base_uri": "https://localhost:8080/",
          "height": 34
        },
        "outputId": "e4b1a329-16e6-4333-fad7-0e2eec91d16c"
      },
      "source": [
        "import os\n",
        "os.getcwd()"
      ],
      "execution_count": 2,
      "outputs": [
        {
          "output_type": "execute_result",
          "data": {
            "text/plain": [
              "'/content'"
            ]
          },
          "metadata": {
            "tags": []
          },
          "execution_count": 2
        }
      ]
    },
    {
      "cell_type": "code",
      "metadata": {
        "id": "TEDGlB8fR7io",
        "colab_type": "code",
        "colab": {}
      },
      "source": [
        "!unzip -q \"/content/Chapter06.zip\""
      ],
      "execution_count": 0,
      "outputs": []
    },
    {
      "cell_type": "code",
      "metadata": {
        "id": "3-RbMlWtSI0j",
        "colab_type": "code",
        "colab": {}
      },
      "source": [
        "os.chdir(\"/content/Chapter06\")"
      ],
      "execution_count": 0,
      "outputs": []
    },
    {
      "cell_type": "code",
      "metadata": {
        "id": "DFc17Sc5PTxZ",
        "colab_type": "code",
        "colab": {
          "base_uri": "https://localhost:8080/",
          "height": 122
        },
        "outputId": "ba20ce56-8aa2-447f-a739-e08222131906"
      },
      "source": [
        "from google.colab import drive\n",
        "drive.mount('/content/drive')"
      ],
      "execution_count": 2,
      "outputs": [
        {
          "output_type": "stream",
          "text": [
            "Go to this URL in a browser: https://accounts.google.com/o/oauth2/auth?client_id=947318989803-6bn6qk8qdgf4n4g3pfee6491hc0brc4i.apps.googleusercontent.com&redirect_uri=urn%3aietf%3awg%3aoauth%3a2.0%3aoob&response_type=code&scope=email%20https%3a%2f%2fwww.googleapis.com%2fauth%2fdocs.test%20https%3a%2f%2fwww.googleapis.com%2fauth%2fdrive%20https%3a%2f%2fwww.googleapis.com%2fauth%2fdrive.photos.readonly%20https%3a%2f%2fwww.googleapis.com%2fauth%2fpeopleapi.readonly\n",
            "\n",
            "Enter your authorization code:\n",
            "··········\n",
            "Mounted at /content/drive\n"
          ],
          "name": "stdout"
        }
      ]
    },
    {
      "cell_type": "code",
      "metadata": {
        "id": "cGpJkaIlSWgr",
        "colab_type": "code",
        "colab": {
          "base_uri": "https://localhost:8080/",
          "height": 190
        },
        "outputId": "debf248f-5285-44e8-ca8d-bc25fa8793a8"
      },
      "source": [
        "! pip install tensorboardX"
      ],
      "execution_count": 5,
      "outputs": [
        {
          "output_type": "stream",
          "text": [
            "Collecting tensorboardX\n",
            "\u001b[?25l  Downloading https://files.pythonhosted.org/packages/35/f1/5843425495765c8c2dd0784a851a93ef204d314fc87bcc2bbb9f662a3ad1/tensorboardX-2.0-py2.py3-none-any.whl (195kB)\n",
            "\r\u001b[K     |█▊                              | 10kB 23.2MB/s eta 0:00:01\r\u001b[K     |███▍                            | 20kB 2.2MB/s eta 0:00:01\r\u001b[K     |█████                           | 30kB 2.9MB/s eta 0:00:01\r\u001b[K     |██████▊                         | 40kB 2.1MB/s eta 0:00:01\r\u001b[K     |████████▍                       | 51kB 2.4MB/s eta 0:00:01\r\u001b[K     |██████████                      | 61kB 2.8MB/s eta 0:00:01\r\u001b[K     |███████████▊                    | 71kB 3.0MB/s eta 0:00:01\r\u001b[K     |█████████████▍                  | 81kB 3.2MB/s eta 0:00:01\r\u001b[K     |███████████████                 | 92kB 3.6MB/s eta 0:00:01\r\u001b[K     |████████████████▊               | 102kB 3.4MB/s eta 0:00:01\r\u001b[K     |██████████████████▍             | 112kB 3.4MB/s eta 0:00:01\r\u001b[K     |████████████████████            | 122kB 3.4MB/s eta 0:00:01\r\u001b[K     |█████████████████████▊          | 133kB 3.4MB/s eta 0:00:01\r\u001b[K     |███████████████████████▌        | 143kB 3.4MB/s eta 0:00:01\r\u001b[K     |█████████████████████████▏      | 153kB 3.4MB/s eta 0:00:01\r\u001b[K     |██████████████████████████▉     | 163kB 3.4MB/s eta 0:00:01\r\u001b[K     |████████████████████████████▌   | 174kB 3.4MB/s eta 0:00:01\r\u001b[K     |██████████████████████████████▏ | 184kB 3.4MB/s eta 0:00:01\r\u001b[K     |███████████████████████████████▉| 194kB 3.4MB/s eta 0:00:01\r\u001b[K     |████████████████████████████████| 204kB 3.4MB/s \n",
            "\u001b[?25hRequirement already satisfied: numpy in /usr/local/lib/python3.6/dist-packages (from tensorboardX) (1.18.1)\n",
            "Requirement already satisfied: protobuf>=3.8.0 in /usr/local/lib/python3.6/dist-packages (from tensorboardX) (3.10.0)\n",
            "Requirement already satisfied: six in /usr/local/lib/python3.6/dist-packages (from tensorboardX) (1.12.0)\n",
            "Requirement already satisfied: setuptools in /usr/local/lib/python3.6/dist-packages (from protobuf>=3.8.0->tensorboardX) (45.2.0)\n",
            "Installing collected packages: tensorboardX\n",
            "Successfully installed tensorboardX-2.0\n"
          ],
          "name": "stdout"
        }
      ]
    },
    {
      "cell_type": "code",
      "metadata": {
        "id": "GJDeQieRPYvF",
        "colab_type": "code",
        "colab": {
          "base_uri": "https://localhost:8080/",
          "height": 683
        },
        "outputId": "326b36f6-af1f-4022-c4c0-844dfb1b5cc7"
      },
      "source": [
        "!python 02_dqn_pong.py"
      ],
      "execution_count": 6,
      "outputs": [
        {
          "output_type": "stream",
          "text": [
            "/usr/local/lib/python3.6/dist-packages/gym/logger.py:30: UserWarning: \u001b[33mWARN: Box bound precision lowered by casting to float32\u001b[0m\n",
            "  warnings.warn(colorize('%s: %s'%('WARN', msg % args), 'yellow'))\n",
            "DQN(\n",
            "  (conv): Sequential(\n",
            "    (0): Conv2d(4, 32, kernel_size=(8, 8), stride=(4, 4))\n",
            "    (1): ReLU()\n",
            "    (2): Conv2d(32, 64, kernel_size=(4, 4), stride=(2, 2))\n",
            "    (3): ReLU()\n",
            "    (4): Conv2d(64, 64, kernel_size=(3, 3), stride=(1, 1))\n",
            "    (5): ReLU()\n",
            "  )\n",
            "  (fc): Sequential(\n",
            "    (0): Linear(in_features=3136, out_features=512, bias=True)\n",
            "    (1): ReLU()\n",
            "    (2): Linear(in_features=512, out_features=6, bias=True)\n",
            "  )\n",
            ")\n",
            "762: done 1 games, reward -21.000, eps 0.99, speed 565.51 f/s\n",
            "1915: done 2 games, reward -20.000, eps 0.99, speed 589.49 f/s\n",
            "Best reward updated -21.000 -> -20.000\n",
            "2982: done 3 games, reward -20.000, eps 0.98, speed 577.15 f/s\n",
            "3864: done 4 games, reward -20.250, eps 0.97, speed 572.74 f/s\n",
            "4764: done 5 games, reward -20.200, eps 0.97, speed 576.66 f/s\n",
            "5813: done 6 games, reward -19.833, eps 0.96, speed 576.98 f/s\n",
            "Best reward updated -20.000 -> -19.833\n",
            "6650: done 7 games, reward -20.000, eps 0.96, speed 568.23 f/s\n",
            "7440: done 8 games, reward -20.125, eps 0.95, speed 569.81 f/s\n",
            "8202: done 9 games, reward -20.222, eps 0.95, speed 563.74 f/s\n",
            "9053: done 10 games, reward -20.300, eps 0.94, speed 559.58 f/s\n",
            "9949: done 11 games, reward -20.273, eps 0.93, speed 554.64 f/s\n",
            "10789: done 12 games, reward -20.250, eps 0.93, speed 12.48 f/s\n",
            "11807: done 13 games, reward -20.231, eps 0.92, speed 10.96 f/s\n",
            "Traceback (most recent call last):\n",
            "  File \"02_dqn_pong.py\", line 188, in <module>\n",
            "    batch = buffer.sample(BATCH_SIZE)\n",
            "  File \"02_dqn_pong.py\", line 49, in sample\n",
            "    replace=False)\n",
            "KeyboardInterrupt\n"
          ],
          "name": "stdout"
        }
      ]
    },
    {
      "cell_type": "code",
      "metadata": {
        "id": "e7h0ddqFPtV0",
        "colab_type": "code",
        "colab": {}
      },
      "source": [
        ""
      ],
      "execution_count": 0,
      "outputs": []
    }
  ]
}